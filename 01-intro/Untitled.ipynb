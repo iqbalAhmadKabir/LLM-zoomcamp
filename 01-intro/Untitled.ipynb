{
 "cells": [
  {
   "cell_type": "code",
   "execution_count": 1,
   "id": "89bfb726-421a-480a-a647-9a3195355fb3",
   "metadata": {},
   "outputs": [],
   "source": [
    "import openai"
   ]
  },
  {
   "cell_type": "code",
   "execution_count": 2,
   "id": "03c72d5b-dd95-406e-ae4f-119855fcbea7",
   "metadata": {},
   "outputs": [],
   "source": [
    "from openai import OpenAI"
   ]
  },
  {
   "cell_type": "code",
   "execution_count": 4,
   "id": "e0a727d7-7b42-43f1-aed1-f3a0e63757e7",
   "metadata": {},
   "outputs": [],
   "source": [
    "client = OpenAI() # it read from environment variable"
   ]
  },
  {
   "cell_type": "code",
   "execution_count": 10,
   "id": "eec161cd-c1c5-408a-8030-03673e847509",
   "metadata": {},
   "outputs": [],
   "source": [
    "import os"
   ]
  },
  {
   "cell_type": "code",
   "execution_count": 12,
   "id": "d887a914-652e-4a29-81ed-ca9a5151145e",
   "metadata": {
    "scrolled": true
   },
   "outputs": [],
   "source": [
    "# os.environ"
   ]
  },
  {
   "cell_type": "code",
   "execution_count": null,
   "id": "4adf792a-cad0-40ed-92bf-922f7d228220",
   "metadata": {},
   "outputs": [],
   "source": [
    "client.chat.completions.create(\n",
    "    model='gpt-3.5-turbo',\n",
    "    messages=[{\"role\": \"user\", \"system\"}]"
   ]
  }
 ],
 "metadata": {
  "kernelspec": {
   "display_name": "Python 3 (ipykernel)",
   "language": "python",
   "name": "python3"
  },
  "language_info": {
   "codemirror_mode": {
    "name": "ipython",
    "version": 3
   },
   "file_extension": ".py",
   "mimetype": "text/x-python",
   "name": "python",
   "nbconvert_exporter": "python",
   "pygments_lexer": "ipython3",
   "version": "3.10.13"
  }
 },
 "nbformat": 4,
 "nbformat_minor": 5
}
